{
 "cells": [
  {
   "cell_type": "code",
   "execution_count": 1,
   "metadata": {},
   "outputs": [],
   "source": [
    "import json\n",
    "import os\n",
    "import csv"
   ]
  },
  {
   "cell_type": "markdown",
   "metadata": {},
   "source": [
    "## Configuration"
   ]
  },
  {
   "cell_type": "code",
   "execution_count": null,
   "metadata": {},
   "outputs": [],
   "source": [
    "cache_dir = \"stored_data\"\n",
    "\n",
    "out_filename = \"all_data.csv\""
   ]
  },
  {
   "cell_type": "markdown",
   "metadata": {},
   "source": [
    "## Create CSV file"
   ]
  },
  {
   "cell_type": "code",
   "execution_count": null,
   "metadata": {},
   "outputs": [],
   "source": [
    "# read all files from the directory cache_dir\n",
    "\n",
    "files = os.listdir(cache_dir)\n",
    "\n",
    "\n",
    "basic_fieldnames = ['id', 'model', 'sparql', 'prompt']\n",
    "\n",
    "counter = 0\n",
    "with open(out_filename, 'w', newline='') as csvfile:\n",
    "    for file in files:\n",
    "        if file.endswith(\".json\"):\n",
    "            with open(cache_dir + \"/\" + file, \"r\") as f:\n",
    "                data = json.load(f)\n",
    "                sparql2nl = data.get(\"sparql2nl\")\n",
    "                del data[\"sparql2nl\"]\n",
    "                \n",
    "                csv_data = data | sparql2nl\n",
    "                \n",
    "                if counter == 0:\n",
    "                    # add all fields, remove duplicates\n",
    "                    fieldnames = list(dict.fromkeys(basic_fieldnames + list(csv_data.keys())))\n",
    "                    print(\"Fieldnames:\", fieldnames)\n",
    "                    writer = csv.DictWriter(csvfile, fieldnames=fieldnames, quotechar='\\\"', delimiter=',', quoting=csv.QUOTE_ALL)\n",
    "                    writer.writeheader()\n",
    "                counter += 1\n",
    "                \n",
    "                # write the data to the csv file\n",
    "                writer.writerow(csv_data)\n",
    "\n",
    "print(\"Wrote\", counter, \"rows to\", out_filename)"
   ]
  }
 ],
 "metadata": {
  "kernelspec": {
   "display_name": "Python 3",
   "language": "python",
   "name": "python3"
  },
  "language_info": {
   "codemirror_mode": {
    "name": "ipython",
    "version": 3
   },
   "file_extension": ".py",
   "mimetype": "text/x-python",
   "name": "python",
   "nbconvert_exporter": "python",
   "pygments_lexer": "ipython3",
   "version": "3.9.16"
  }
 },
 "nbformat": 4,
 "nbformat_minor": 2
}
