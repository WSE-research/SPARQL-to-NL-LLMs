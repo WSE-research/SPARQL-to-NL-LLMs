{
 "cells": [
  {
   "cell_type": "code",
   "execution_count": 42,
   "metadata": {},
   "outputs": [],
   "source": [
    "import datetime\n",
    "import requests\n",
    "import json\n",
    "\n",
    "from pprint import pprint\n",
    "import logging\n",
    "from openai import OpenAI\n",
    "import os\n",
    "import sys\n",
    "import time\n",
    "from pathlib import Path\n",
    "import hashlib"
   ]
  },
  {
   "cell_type": "markdown",
   "metadata": {},
   "source": [
    "## Configuration"
   ]
  },
  {
   "cell_type": "code",
   "execution_count": 43,
   "metadata": {},
   "outputs": [
    {
     "name": "stdout",
     "output_type": "stream",
     "text": [
      "removing handler <StreamHandler stdout (NOTSET)>\n"
     ]
    }
   ],
   "source": [
    "# load the OpenAI API key from the environment\n",
    "\n",
    "\n",
    "OPENAI_API_KEY = Path('./OPENAI_API_KEY').read_text() # stored in a local file for security reasons\n",
    "\n",
    "language = \"en\" # used for documentation only\n",
    "#language = \"de\"\n",
    "language_string = \"English\" if language == \"en\" else \"German\" # TODO: use a dictionary\n",
    "\n",
    "current_datetime = datetime.datetime.now().strftime(\"%Y-%m-%d_%H-%M-%S\")\n",
    "\n",
    "in_filename = \"https://raw.githubusercontent.com/KGQA/QALD_9_plus/main/data/qald_9_plus_train_dbpedia.json\"\n",
    "\n",
    "cache_dir = \"stored_data\"\n",
    "\n",
    "# prefix of in_filename used for storing the cached files \n",
    "prefix = in_filename.split(\"/\")[-1].split(\".\")[0]\n",
    "\n",
    "# cf. https://platform.openai.com/docs/models/continuous-model-upgrades\n",
    "#OPENAI_MODEL = \"gpt-3.5-turbo\"\n",
    "#OPENAI_MODEL = \"gpt-3.5-turbo-16k\"\n",
    "OPENAI_MODELS = [\"gpt-4\", \"gpt-3.5-turbo\"]\n",
    "temperature = 0.0\n",
    "\n",
    "prompt_template = \"\"\"Assume you have to rephrase the following SPARQL query as a natural-language question for non-technical humans. \n",
    "Use the {language_string} language. SPARQL query: \n",
    "{sparql}\n",
    "\"\"\"\n",
    "\n",
    "#logging.basicConfig(level=logging.INFO)\n",
    "# date_strftime_format = \"%Y-%m-%d %H:%M:%S\"\n",
    "# logging.basicConfig(stream=sys.stdout, level=logging.INFO, format=\"%(asctime)s %(message)s\", datefmt=date_strftime_format)\n",
    "\n",
    "logger = logging.getLogger(__name__)\n",
    "#Remove all handlers:\n",
    "for handler in logger.handlers[:]: #get rid of existing old handlers\n",
    "    print('removing handler %s'%handler)\n",
    "    logger.removeHandler(handler)\n",
    "logger.addHandler(logging.StreamHandler(stream=sys.stdout))\n",
    "logger.setLevel(logging.INFO)\n"
   ]
  },
  {
   "cell_type": "markdown",
   "metadata": {},
   "source": [
    "## Methods"
   ]
  },
  {
   "cell_type": "code",
   "execution_count": 44,
   "metadata": {},
   "outputs": [],
   "source": [
    "def get_filename_for_cache(prefix, question_id, prompt_hash, model, temperature):\n",
    "    # extend id to 6 digits\n",
    "    question_id = str(question_id).zfill(6)\n",
    "    return \"{}/{}_{}_{}_model-{}_temperature-{}.json\".format(cache_dir, prefix, prompt_hash, question_id, model, temperature)"
   ]
  },
  {
   "cell_type": "code",
   "execution_count": 45,
   "metadata": {},
   "outputs": [],
   "source": [
    "def get_cached_data_if_exists(filename):\n",
    "    try:\n",
    "        with open(filename, \"r\") as f:\n",
    "            return json.load(f)\n",
    "    except:\n",
    "        return None"
   ]
  },
  {
   "cell_type": "code",
   "execution_count": 46,
   "metadata": {},
   "outputs": [],
   "source": [
    "def store_data_in_cache(filename, data):\n",
    "    # format JSON with 4 spaces indentation    \n",
    "    with open(filename, \"w\") as f:\n",
    "        json.dump(data, f, indent=4)\n",
    "        logging.info(\"Stored data in cache: {}\".format(filename))"
   ]
  },
  {
   "cell_type": "markdown",
   "metadata": {},
   "source": [
    "## Fetch Data "
   ]
  },
  {
   "cell_type": "code",
   "execution_count": 47,
   "metadata": {},
   "outputs": [
    {
     "name": "stdout",
     "output_type": "stream",
     "text": [
      "Loaded https://raw.githubusercontent.com/KGQA/QALD_9_plus/main/data/qald_9_plus_train_dbpedia.json: 408 questions\n"
     ]
    },
    {
     "name": "stderr",
     "output_type": "stream",
     "text": [
      "INFO:__main__:Loaded https://raw.githubusercontent.com/KGQA/QALD_9_plus/main/data/qald_9_plus_train_dbpedia.json: 408 questions\n"
     ]
    }
   ],
   "source": [
    "json_data = json.loads(requests.get(in_filename).text)\n",
    "logger.info(\"Loaded {}: {} questions\".format(in_filename, len(json_data[\"questions\"])))\n",
    "#json_data\n",
    "#print(json_data[\"questions\"][0])"
   ]
  },
  {
   "cell_type": "code",
   "execution_count": 49,
   "metadata": {},
   "outputs": [
    {
     "name": "stderr",
     "output_type": "stream",
     "text": [
      "WARNING:root:cached data already contains the sparql2nl value for the language: en, file: stored_data/qald_9_plus_train_dbpedia_061ab317b1997f423db4b29caa1126458606c018_000001_model-gpt-4_temperature-0.0.json\n",
      "WARNING:root:cached data already contains the sparql2nl value for the language: en, file: stored_data/qald_9_plus_train_dbpedia_061ab317b1997f423db4b29caa1126458606c018_000001_model-gpt-3.5-turbo_temperature-0.0.json\n"
     ]
    },
    {
     "name": "stdout",
     "output_type": "stream",
     "text": [
      "061ab317b1997f423db4b29caa1126458606c018\n",
      "1 en List all boardgames by GMT. PREFIX dbo: <http://dbpedia.org/ontology/> PREFIX res: <http://dbpedia.org/resource/> PREFIX rdfs: <http://www.w3.org/2000/01/rdf-schema#> SELECT ?uri WHERE { ?uri dbo:publisher res:GMT_Games }\n",
      "stored_data/qald_9_plus_train_dbpedia_061ab317b1997f423db4b29caa1126458606c018_000001_model-gpt-4_temperature-0.0.json\n",
      "1 en List all boardgames by GMT. PREFIX dbo: <http://dbpedia.org/ontology/> PREFIX res: <http://dbpedia.org/resource/> PREFIX rdfs: <http://www.w3.org/2000/01/rdf-schema#> SELECT ?uri WHERE { ?uri dbo:publisher res:GMT_Games }\n",
      "stored_data/qald_9_plus_train_dbpedia_061ab317b1997f423db4b29caa1126458606c018_000001_model-gpt-3.5-turbo_temperature-0.0.json\n"
     ]
    }
   ],
   "source": [
    "assert OPENAI_API_KEY, \"Please set OPENAI_API_KEY environment variable\"\n",
    "\n",
    "# create hash from prompt_template \n",
    "prompt_hash = hashlib.sha1(prompt_template.encode('utf-8')).hexdigest()\n",
    "print(prompt_hash)\n",
    "\n",
    "for openai_model in OPENAI_MODELS:\n",
    "    for item in json_data[\"questions\"][:100]:\n",
    "        question_id = item.get(\"id\")\n",
    "        questions = item[\"question\"]    \n",
    "        sparql = item.get(\"query\", None).get(\"sparql\", None)\n",
    "        \n",
    "        for question in questions:\n",
    "            if language == question[\"language\"]:\n",
    "                print(question_id, language, question.get(\"string\"), sparql)\n",
    "                \n",
    "                cache_filename = get_filename_for_cache(prefix, question_id, prompt_hash, openai_model, temperature)\n",
    "                print(cache_filename)\n",
    "                \n",
    "                question_string = question.get(\"string\")\n",
    "                \n",
    "                # check if the data is already stored\n",
    "                cached_data = get_cached_data_if_exists(cache_filename)\n",
    "                try:\n",
    "                    if cached_data and cached_data.get(\"sparql2nl\").get(language):\n",
    "                        logging.debug(cached_data, indent=2, width=120)\n",
    "                        logging.warning(\"cached data already contains the sparql2nl value for the language: {}, file: {}\".format(language, cache_filename))\n",
    "                        continue # skip this item\n",
    "                except:\n",
    "                    logging.info(\"cached data doesn't contain the sparql2nl value for the language: {}\".format(language))\n",
    "                    pass\n",
    "                finally:\n",
    "                    logging.info(\"no cached data found: {}\".format(cache_filename))\n",
    "                    if cached_data is None:\n",
    "                        cached_data = {}\n",
    "\n",
    "                prompt = prompt_template.format(language_string=language_string, sparql=sparql)\n",
    "                logging.debug(prompt)               \n",
    "                \n",
    "                # get the data from the OpenAI API\n",
    "                    \n",
    "                assert prompt, \"Please set the prompt\"\n",
    "                assert len(prompt.strip()) > 0, \"Please set the prompt\"\n",
    "                \n",
    "                client = OpenAI(\n",
    "                    api_key=OPENAI_API_KEY\n",
    "                )\n",
    "\n",
    "                chat_completion = client.chat.completions.create(\n",
    "                    model=openai_model, \n",
    "                    temperature=temperature,\n",
    "                    messages=[{\"role\": \"user\", \"content\": prompt}]\n",
    "                )\n",
    "                \n",
    "                generated_content = chat_completion.choices[0].message.content\n",
    "                chat_completion_as_string = str(chat_completion)\n",
    "                \n",
    "                print(generated_content)\n",
    "                \n",
    "                cached_data[\"id\"] = question_id\n",
    "                cached_data[\"sparql\"] = sparql\n",
    "                cached_data[\"sparql2nl\"] = {\n",
    "                        language: generated_content,\n",
    "                        \"original_{}\".format(language): question_string,\n",
    "                        \"datetime\": current_datetime,\n",
    "                        \"temperature\": temperature,\n",
    "                        \"model\": openai_model,\n",
    "                        \"prompt\": prompt,            \n",
    "                        \"prompt_hash\": prompt_hash\n",
    "                    }\n",
    "                \n",
    "                store_data_in_cache(cache_filename, cached_data)\n",
    "                # print(chat_completion_as_string)\n",
    "                \n",
    "                time.sleep(1)"
   ]
  }
 ],
 "metadata": {
  "kernelspec": {
   "display_name": "Python 3",
   "language": "python",
   "name": "python3"
  },
  "language_info": {
   "codemirror_mode": {
    "name": "ipython",
    "version": 3
   },
   "file_extension": ".py",
   "mimetype": "text/x-python",
   "name": "python",
   "nbconvert_exporter": "python",
   "pygments_lexer": "ipython3",
   "version": "3.9.16"
  }
 },
 "nbformat": 4,
 "nbformat_minor": 2
}
