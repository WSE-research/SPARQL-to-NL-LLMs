{
 "cells": [
  {
   "cell_type": "code",
   "execution_count": 1,
   "metadata": {},
   "outputs": [],
   "source": [
    "import json\n",
    "import pandas as pd\n",
    "from getpass import getpass\n",
    "from openai import OpenAI\n",
    "\n",
    "token = getpass('Token Open AI')"
   ]
  },
  {
   "cell_type": "code",
   "execution_count": 2,
   "metadata": {},
   "outputs": [],
   "source": [
    "client = OpenAI(api_key=token)"
   ]
  },
  {
   "cell_type": "code",
   "execution_count": 36,
   "metadata": {},
   "outputs": [],
   "source": [
    "df = pd.read_csv(\"../data/alpe-experiments/merged/qald-9-plus-train.tsv\", sep='\\t')\n",
    "df = df[df.prompt_type == 'ONE_SHOT']\n",
    "df = df.sample(frac=.15)"
   ]
  },
  {
   "cell_type": "code",
   "execution_count": 37,
   "metadata": {},
   "outputs": [],
   "source": [
    "# Convert the dataframe to a list of dictionaries\n",
    "data = df[['prompt', 'gold_standard_nl']].to_dict('records')\n",
    "\n",
    "# Create a new list to store the transformed data\n",
    "transformed_data = []\n",
    "\n",
    "# Transform the data to the required format\n",
    "for record in data:\n",
    "    transformed_data.append({\n",
    "        \"messages\": [\n",
    "            {\"role\": \"user\", \"content\": record['prompt']},\n",
    "            {\"role\": \"assistant\", \"content\": record['gold_standard_nl']}\n",
    "        ]\n",
    "    })\n",
    "\n",
    "# Save the transformed data to a jsonl file\n",
    "with open('../data/alpe-experiments/merged/qald-9-plus-train.jsonl', 'w') as f:\n",
    "    for item in transformed_data:\n",
    "        f.write(f\"{json.dumps(item)}\\n\")"
   ]
  },
  {
   "cell_type": "code",
   "execution_count": 38,
   "metadata": {},
   "outputs": [],
   "source": [
    "file = client.files.create(\n",
    "  file=open(\"../data/alpe-experiments/merged/qald-9-plus-train.jsonl\", \"rb\"),\n",
    "  purpose=\"fine-tune\"\n",
    ")"
   ]
  },
  {
   "cell_type": "code",
   "execution_count": 39,
   "metadata": {},
   "outputs": [],
   "source": [
    "response = client.fine_tuning.jobs.create(\n",
    "  training_file=file.id,\n",
    "  model=\"gpt-3.5-turbo\"\n",
    ")"
   ]
  },
  {
   "cell_type": "code",
   "execution_count": 40,
   "metadata": {},
   "outputs": [
    {
     "data": {
      "text/plain": [
       "FineTuningJob(id='ftjob-RtVuAeFyziHwjhHQJk5qRzOf', created_at=1712325272, error=Error(code=None, message=None, param=None, error=None), fine_tuned_model=None, finished_at=None, hyperparameters=Hyperparameters(n_epochs='auto', batch_size='auto', learning_rate_multiplier='auto'), model='gpt-3.5-turbo-0125', object='fine_tuning.job', organization_id='org-NTsJgdgG0pdYMYQRpQjQbchJ', result_files=[], status='validating_files', trained_tokens=None, training_file='file-Uemac8bBIR5iAcDFQH2GZ08b', validation_file=None, user_provided_suffix=None, seed=187745952, integrations=[])"
      ]
     },
     "execution_count": 40,
     "metadata": {},
     "output_type": "execute_result"
    }
   ],
   "source": [
    "response"
   ]
  },
  {
   "cell_type": "code",
   "execution_count": 3,
   "metadata": {},
   "outputs": [
    {
     "data": {
      "text/plain": [
       "SyncCursorPage[FineTuningJob](data=[FineTuningJob(id='ftjob-hIXTQzk6Sf2keTOHqiEwyISo', created_at=1712325127, error=Error(code=None, message=None, param=None, error=None), fine_tuned_model='ft:gpt-3.5-turbo-0125:personal::9AfWwuZ3', finished_at=1712329950, hyperparameters=Hyperparameters(n_epochs=3, batch_size=5, learning_rate_multiplier=8), model='gpt-3.5-turbo-0125', object='fine_tuning.job', organization_id='org-dVlNDXTNfBv2VG0VtX1F6n4U', result_files=['file-Xynh5QZC2h80FyvScQfQblo1'], status='succeeded', trained_tokens=3377091, training_file='file-rXM0Xvkq56GIY4e6mk7wzrQR', validation_file=None, user_provided_suffix=None, seed=1241654507, integrations=[])], object='list', has_more=False)"
      ]
     },
     "execution_count": 3,
     "metadata": {},
     "output_type": "execute_result"
    }
   ],
   "source": [
    "client.fine_tuning.jobs.list(limit=5)"
   ]
  },
  {
   "cell_type": "code",
   "execution_count": null,
   "metadata": {},
   "outputs": [],
   "source": []
  }
 ],
 "metadata": {
  "kernelspec": {
   "display_name": "Python 3",
   "language": "python",
   "name": "python3"
  },
  "language_info": {
   "codemirror_mode": {
    "name": "ipython",
    "version": 3
   },
   "file_extension": ".py",
   "mimetype": "text/x-python",
   "name": "python",
   "nbconvert_exporter": "python",
   "pygments_lexer": "ipython3",
   "version": "3.8.10"
  }
 },
 "nbformat": 4,
 "nbformat_minor": 2
}
