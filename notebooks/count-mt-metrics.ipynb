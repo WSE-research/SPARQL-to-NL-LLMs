{
 "cells": [
  {
   "cell_type": "code",
   "execution_count": 1,
   "metadata": {},
   "outputs": [],
   "source": [
    "import os\n",
    "import numpy as np\n",
    "import pandas as pd\n",
    "from rouge import Rouge\n",
    "from nltk.tokenize import word_tokenize\n",
    "from nltk.translate.bleu_score import sentence_bleu\n",
    "from nltk.translate.nist_score import sentence_nist\n",
    "from Levenshtein import distance as levenshtein_distance"
   ]
  },
  {
   "cell_type": "code",
   "execution_count": 2,
   "metadata": {},
   "outputs": [],
   "source": [
    "rouge = Rouge()"
   ]
  },
  {
   "cell_type": "code",
   "execution_count": 12,
   "metadata": {},
   "outputs": [],
   "source": [
    "def calculate_bleu(row):\n",
    "    from nltk.translate.bleu_score import SmoothingFunction\n",
    "    smoothie = SmoothingFunction().method4\n",
    "    return np.round(sentence_bleu([row['tokenized_gold_standard_nl']], row['tokenized_generated_nl'], smoothing_function=smoothie), 4)\n",
    "\n",
    "def calculate_nist(row):\n",
    "    try:\n",
    "        return np.round(sentence_nist([row['tokenized_gold_standard_nl']], row['tokenized_generated_nl']), 4)\n",
    "    except ZeroDivisionError:\n",
    "        return 0.0\n",
    "\n",
    "def calculate_rougeL(row):\n",
    "    try:\n",
    "        scores = rouge.get_scores(row['generated_nl'], row['gold_standard_nl'])\n",
    "        return np.round(scores[0]['rouge-l']['f'], 4)\n",
    "    except:\n",
    "        return 0\n",
    "\n",
    "def calculate_levenshtein(row):\n",
    "    try:\n",
    "        return np.round(levenshtein_distance(row['generated_nl'], row['gold_standard_nl']), 4)\n",
    "    except:\n",
    "        return len(row['gold_standard_nl'])\n",
    "\n",
    "def tokenize(x):\n",
    "    try:\n",
    "        return word_tokenize(str(x))\n",
    "    except:\n",
    "        return str(x).split()\n",
    "# from bert_score import score\n",
    "\n",
    "# def calculate_bert_score(row):\n",
    "    # P, R, F1 = score(row['generated_nl'], row['gold_standard_nl'], lang=\"en\", verbose=True)\n",
    "    # return F1.mean()"
   ]
  },
  {
   "cell_type": "code",
   "execution_count": 13,
   "metadata": {},
   "outputs": [
    {
     "name": "stdout",
     "output_type": "stream",
     "text": [
      "qald_9_plus_test_wikidata.json_en.tsv\n",
      "qald_9_plus_train_wikidata.json_en.tsv\n",
      "qald_9_plus_test_wikidata.json_de.tsv\n",
      "qald_9_plus_train_wikidata.json_ru.tsv\n"
     ]
    }
   ],
   "source": [
    "model = \"mistral-7b-zeroshot-finetuned\"\n",
    "\n",
    "for file in os.listdir(f\"../data/alpe-experiments/raw/{model}/\"):\n",
    "    df = pd.read_csv(f\"../data/alpe-experiments/raw/{model}/{file}\", sep='\\t')\n",
    "    print(file)\n",
    "    df['tokenized_generated_nl'] = df['generated_nl'].apply(tokenize)\n",
    "    df['tokenized_gold_standard_nl'] = df['gold_standard_nl'].apply(word_tokenize)\n",
    "    df['sentence_bleu'] = df.apply(calculate_bleu, axis=1).astype(float)\n",
    "    df['sentence_nist'] = df.apply(calculate_nist, axis=1).astype(float)\n",
    "    df['rougeL'] = df.apply(calculate_rougeL, axis=1).astype(float)\n",
    "    df['levenshtein'] = df.apply(calculate_levenshtein, axis=1).astype(float)\n",
    "\n",
    "    df.to_csv(f\"../data/alpe-experiments/metrics/{model}/{file}\", sep='\\t', index=False)"
   ]
  },
  {
   "cell_type": "code",
   "execution_count": null,
   "metadata": {},
   "outputs": [],
   "source": []
  },
  {
   "cell_type": "code",
   "execution_count": null,
   "metadata": {},
   "outputs": [],
   "source": []
  }
 ],
 "metadata": {
  "kernelspec": {
   "display_name": "Python 3",
   "language": "python",
   "name": "python3"
  },
  "language_info": {
   "codemirror_mode": {
    "name": "ipython",
    "version": 3
   },
   "file_extension": ".py",
   "mimetype": "text/x-python",
   "name": "python",
   "nbconvert_exporter": "python",
   "pygments_lexer": "ipython3",
   "version": "3.8.10"
  }
 },
 "nbformat": 4,
 "nbformat_minor": 2
}
